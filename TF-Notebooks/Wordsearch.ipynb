{
 "cells": [
  {
   "cell_type": "markdown",
   "metadata": {
    "deletable": true,
    "editable": true
   },
   "source": [
    "# Greek and Hebrew Wordsearch in Jupyter"
   ]
  },
  {
   "cell_type": "markdown",
   "metadata": {
    "deletable": true,
    "editable": true
   },
   "source": [
    "19th March 2017\n",
    "\n",
    "This is a test to see if we can use the wordsearch generator and render the result inline in a notebook.\n",
    "\n",
    "Please follow this yellow-brick road carefully. The error handling is not up to snuff yet. Mismatching things like Greek verse references with Hebrew corpora designations might be interesting. Do not expect repeated generations of the wordsearches for the same verse to yield identical grids. There are random selections in the layout algorithm, and apparently the word list sorts are unstable. You are possibly going to need to reset the notebook server on occasion to get it to reload state. Not sure what is going on there yet."
   ]
  },
  {
   "cell_type": "code",
   "execution_count": 1,
   "metadata": {
    "collapsed": false,
    "deletable": true,
    "editable": true
   },
   "outputs": [],
   "source": [
    "%load_ext autoreload\n",
    "%autoreload 2"
   ]
  },
  {
   "cell_type": "markdown",
   "metadata": {
    "deletable": true,
    "editable": true
   },
   "source": [
    "Import the necessary modules. In this case I have set PYTHONPATH to include the directories where these packages are located."
   ]
  },
  {
   "cell_type": "code",
   "execution_count": 2,
   "metadata": {
    "collapsed": false,
    "deletable": true,
    "editable": true
   },
   "outputs": [],
   "source": [
    "from bibleutils.versification import convert_refs, expand_refs, parse_refs, \\\n",
    "                                     ReferenceFormID\n",
    "from puzzles.core.etcbc import Corpus, get_words\n",
    "from puzzles.wordsearch.wordsearch import WordSearch\n",
    "\n",
    "from IPython.display import HTML, display"
   ]
  },
  {
   "cell_type": "markdown",
   "metadata": {},
   "source": [
    "## Greek Wordsearch"
   ]
  },
  {
   "cell_type": "markdown",
   "metadata": {
    "deletable": true,
    "editable": true
   },
   "source": [
    "Now generate a wordsearch grid with words drawn from a couple of verses of Luke."
   ]
  },
  {
   "cell_type": "code",
   "execution_count": 3,
   "metadata": {
    "collapsed": true,
    "deletable": true,
    "editable": true
   },
   "outputs": [],
   "source": [
    "refs = expand_refs(convert_refs(parse_refs('Luke 1:2,5', form='ETCBCG'),\n",
    "                   ReferenceFormID.ETCBCG))\n",
    "        \n",
    "# Get the list of words from TF\n",
    "sections = []\n",
    "[sections.append((r.st_book, r.st_ch, r.st_vs)) for r in refs ]\n",
    "word_list = get_words(*sections, work=Corpus.GREEK)\n",
    "\n",
    "# Note that the rows and columns values (here both 10) are ignored by the current placement algorithm\n",
    "ws = WordSearch(set(word_list), 10, 10, WordSearch.LTR)"
   ]
  },
  {
   "cell_type": "markdown",
   "metadata": {
    "deletable": true,
    "editable": true
   },
   "source": [
    "Dump a few basic statistics to show things are as expected."
   ]
  },
  {
   "cell_type": "code",
   "execution_count": 4,
   "metadata": {
    "collapsed": false,
    "deletable": true,
    "editable": true
   },
   "outputs": [
    {
     "name": "stdout",
     "output_type": "stream",
     "text": [
      "stats={'placedR': 12, 'placedRD': 21, 'placedD': 4}, number of words=37, extents: right=13, bottom=14\n"
     ]
    }
   ],
   "source": [
    "print(f'stats={ws._stat_map}, number of words={len(ws._words)}, extents: right={ws._right}, bottom={ws._bottom}')"
   ]
  },
  {
   "cell_type": "markdown",
   "metadata": {
    "deletable": true,
    "editable": true
   },
   "source": [
    "Now display the grid."
   ]
  },
  {
   "cell_type": "code",
   "execution_count": 5,
   "metadata": {
    "collapsed": false,
    "deletable": true,
    "editable": true
   },
   "outputs": [
    {
     "data": {
      "text/html": [
       "\n",
       "<html>\n",
       " <head>\n",
       "  <meta charset=\"UTF-8\">\n",
       "    <style>\n",
       "    div#wordsearch { float: left; width:50%;}\n",
       "    div#wordlist {float: left; margin-left: 20px;}\n",
       "    table { width: 100%; border-collapse: collapse;}\n",
       "    td { font-size: 200%;}\n",
       "    table, th, td { border: 1px solid black; }\n",
       "    ul {list-style-type: none;}\n",
       "  </style>\n",
       "</head>\n",
       "<body>\n",
       "<div id=\"header\">\n",
       "<h3>Wordsearch</h3>\n",
       "<div id=\"main\"><div id=\"wordsearch\"><table border=\"1\"><tr><td align=\"center\">π</td><td align=\"center\">α</td><td align=\"center\">ρ</td><td align=\"center\">έ</td><td align=\"center\">δ</td><td align=\"center\">ο</td><td align=\"center\">σ</td><td align=\"center\">α</td><td align=\"center\">ν</td><td align=\"center\">κ</td><td align=\"center\">α</td><td align=\"center\">θ</td><td align=\"center\">ὼ</td><td align=\"center\">ς</td></tr><tr><td align=\"center\">ἐ</td><td align=\"center\">γ</td><td align=\"center\">ῴ</td><td align=\"center\">Ζ</td><td align=\"center\">Ἰ</td><td align=\"center\">ο</td><td align=\"center\">υ</td><td align=\"center\">δ</td><td align=\"center\">α</td><td align=\"center\">ί</td><td align=\"center\">α</td><td align=\"center\">ς</td><td align=\"center\">π</td><td align=\"center\">ἀ</td></tr><tr><td align=\"center\">θ</td><td align=\"center\">φ</td><td align=\"center\">ε</td><td align=\"center\">β</td><td align=\"center\">α</td><td align=\"center\">σ</td><td align=\"center\">ι</td><td align=\"center\">λ</td><td align=\"center\">έ</td><td align=\"center\">ω</td><td align=\"center\">ς</td><td align=\"center\">ὶ</td><td align=\"center\">ἐ</td><td align=\"center\">ξ</td></tr><tr><td align=\"center\">υ</td><td align=\"center\">Ἐ</td><td align=\"center\">η</td><td align=\"center\">ν</td><td align=\"center\">ἡ</td><td align=\"center\">χ</td><td align=\"center\">ὀ</td><td align=\"center\">Ἡ</td><td align=\"center\">α</td><td align=\"center\">λ</td><td align=\"center\">ό</td><td align=\"center\">γ</td><td align=\"center\">ο</td><td align=\"center\">υ</td></tr><tr><td align=\"center\">γ</td><td align=\"center\">α</td><td align=\"center\">λ</td><td align=\"center\">μ</td><td align=\"center\">ό</td><td align=\"center\">μ</td><td align=\"center\">α</td><td align=\"center\">ν</td><td align=\"center\">ρ</td><td align=\"center\">ὐ</td><td align=\"center\">τ</td><td align=\"center\">ο</td><td align=\"center\">ῦ</td><td align=\"center\">ί</td></tr><tr><td align=\"center\">α</td><td align=\"center\">ὐ</td><td align=\"center\">ὑ</td><td align=\"center\">ι</td><td align=\"center\">ε</td><td align=\"center\">μ</td><td align=\"center\">έ</td><td align=\"center\">ρ</td><td align=\"center\">ό</td><td align=\"center\">ῴ</td><td align=\"center\">τ</td><td align=\"center\">α</td><td align=\"center\">ῖ</td><td align=\"center\">ς</td></tr><tr><td align=\"center\">τ</td><td align=\"center\">τ</td><td align=\"center\">Ἐ</td><td align=\"center\">π</td><td align=\"center\">σ</td><td align=\"center\">ρ</td><td align=\"center\">ε</td><td align=\"center\">ρ</td><td align=\"center\">ί</td><td align=\"center\">μ</td><td align=\"center\">δ</td><td align=\"center\">ῆ</td><td align=\"center\">ἀ</td><td align=\"center\">π</td></tr><tr><td align=\"center\">έ</td><td align=\"center\">ό</td><td align=\"center\">ἱ</td><td align=\"center\">γ</td><td align=\"center\">η</td><td align=\"center\">ά</td><td align=\"center\">ί</td><td align=\"center\">ν</td><td align=\"center\">α</td><td align=\"center\">α</td><td align=\"center\">α</td><td align=\"center\">ο</td><td align=\"center\">ς</td><td align=\"center\">ί</td></tr><tr><td align=\"center\">ρ</td><td align=\"center\">π</td><td align=\"center\">Ἀ</td><td align=\"center\">ε</td><td align=\"center\">έ</td><td align=\"center\">ρ</td><td align=\"center\">β</td><td align=\"center\">α</td><td align=\"center\">ο</td><td align=\"center\">ι</td><td align=\"center\">ς</td><td align=\"center\">τ</td><td align=\"center\">υ</td><td align=\"center\">ὸ</td></tr><tr><td align=\"center\">ω</td><td align=\"center\">τ</td><td align=\"center\">ὄ</td><td align=\"center\">α</td><td align=\"center\">ρ</td><td align=\"center\">ν</td><td align=\"center\">έ</td><td align=\"center\">ε</td><td align=\"center\">ς</td><td align=\"center\">ι</td><td align=\"center\">ς</td><td align=\"center\">ῦ</td><td align=\"center\">ι</td><td align=\"center\">Ζ</td></tr><tr><td align=\"center\">ν</td><td align=\"center\">α</td><td align=\"center\">ἡ</td><td align=\"center\">ν</td><td align=\"center\">ρ</td><td align=\"center\">ε</td><td align=\"center\">ε</td><td align=\"center\">τ</td><td align=\"center\">τ</td><td align=\"center\">ἀ</td><td align=\"center\">ρ</td><td align=\"center\">χ</td><td align=\"center\">ῆ</td><td align=\"center\">ς</td></tr><tr><td align=\"center\">γ</td><td align=\"center\">ι</td><td align=\"center\">ὐ</td><td align=\"center\">μ</td><td align=\"center\">ο</td><td align=\"center\">ώ</td><td align=\"center\">ύ</td><td align=\"center\">τ</td><td align=\"center\">α</td><td align=\"center\">Ἀ</td><td align=\"center\">τ</td><td align=\"center\">ῶ</td><td align=\"center\">ν</td><td align=\"center\">ῴ</td></tr><tr><td align=\"center\">ἐ</td><td align=\"center\">υ</td><td align=\"center\">ῆ</td><td align=\"center\">τ</td><td align=\"center\">ῖ</td><td align=\"center\">μ</td><td align=\"center\">ν</td><td align=\"center\">ς</td><td align=\"center\">ο</td><td align=\"center\">ι</td><td align=\"center\">β</td><td align=\"center\">ο</td><td align=\"center\">ἱ</td><td align=\"center\">Ἰ</td></tr><tr><td align=\"center\">κ</td><td align=\"center\">ν</td><td align=\"center\">ν</td><td align=\"center\">ὸ</td><td align=\"center\">ῷ</td><td align=\"center\">ν</td><td align=\"center\">α</td><td align=\"center\">α</td><td align=\"center\">η</td><td align=\"center\">ὐ</td><td align=\"center\">ό</td><td align=\"center\">ι</td><td align=\"center\">τ</td><td align=\"center\">υ</td></tr><tr><td align=\"center\">ὑ</td><td align=\"center\">ύ</td><td align=\"center\">σ</td><td align=\"center\">ὴ</td><td align=\"center\">κ</td><td align=\"center\">ἀ</td><td align=\"center\">ν</td><td align=\"center\">ι</td><td align=\"center\">ὐ</td><td align=\"center\">ὀ</td><td align=\"center\">ἡ</td><td align=\"center\">ἀ</td><td align=\"center\">ά</td><td align=\"center\">γ</td></tr></table></div>\n",
       "<div id=\"wordlist\">\n",
       "<h3>Words to find</h3>\n",
       "<ul><li>Ζαχαρίας</li><li>αὐτόπται</li><li>αὐτῆς</li><li>αὐτῷ</li><li>βασιλέως</li><li>γενόμενοι</li><li>γυνὴ</li><li>θυγατέρων</li><li>καθὼς</li><li>καὶ</li><li>λόγου</li><li>οἱ</li><li>παρέδοσαν</li><li>ταῖς</li><li>τις</li><li>τοῦ</li><li>τὸ</li><li>τῆς</li><li>τῶν</li><li>ἀπ</li><li>ἀρχῆς</li><li>Ἀαρών</li><li>Ἀβιά</li><li>ἐκ</li><li>ἐν</li><li>ἐξ</li><li>ἐφημερίας</li><li>Ἐγένετο</li><li>Ἐλισάβετ</li><li>ἡμέραις</li><li>ἡμῖν</li><li>Ἡρῴδου</li><li>ἱερεύς</li><li>Ἰουδαίας</li><li>ὀνόματι</li><li>ὄνομα</li><li>ὑπηρέται</li></ul></div>\n",
       "</div>\n",
       "</div>\n",
       "</body>\n",
       "</html>\n",
       "        "
      ],
      "text/plain": [
       "<IPython.core.display.HTML object>"
      ]
     },
     "metadata": {},
     "output_type": "display_data"
    }
   ],
   "source": [
    "display(HTML(ws.get_grid('html')))"
   ]
  },
  {
   "cell_type": "markdown",
   "metadata": {
    "deletable": true,
    "editable": true
   },
   "source": [
    "Now display the list of words in the grid"
   ]
  },
  {
   "cell_type": "code",
   "execution_count": 6,
   "metadata": {
    "collapsed": false,
    "deletable": true,
    "editable": true
   },
   "outputs": [
    {
     "data": {
      "text/plain": [
       "['παρέδοσαν',\n",
       " 'ἐφημερίας',\n",
       " 'γενόμενοι',\n",
       " 'θυγατέρων',\n",
       " 'Ἐλισάβετ',\n",
       " 'βασιλέως',\n",
       " 'αὐτόπται',\n",
       " 'Ἰουδαίας',\n",
       " 'Ζαχαρίας',\n",
       " 'ὑπηρέται',\n",
       " 'Ἐγένετο',\n",
       " 'ἡμέραις',\n",
       " 'ὀνόματι',\n",
       " 'ἱερεύς',\n",
       " 'Ἡρῴδου',\n",
       " 'Ἀαρών',\n",
       " 'αὐτῆς',\n",
       " 'ὄνομα',\n",
       " 'λόγου',\n",
       " 'καθὼς',\n",
       " 'ἀρχῆς',\n",
       " 'ταῖς',\n",
       " 'αὐτῷ',\n",
       " 'γυνὴ',\n",
       " 'ἡμῖν',\n",
       " 'Ἀβιά',\n",
       " 'τῶν',\n",
       " 'καὶ',\n",
       " 'τῆς',\n",
       " 'τοῦ',\n",
       " 'τις',\n",
       " 'ἐκ',\n",
       " 'ἐν',\n",
       " 'οἱ',\n",
       " 'τὸ',\n",
       " 'ἀπ',\n",
       " 'ἐξ']"
      ]
     },
     "execution_count": 6,
     "metadata": {},
     "output_type": "execute_result"
    }
   ],
   "source": [
    "ws.get_word_list()"
   ]
  },
  {
   "cell_type": "code",
   "execution_count": 7,
   "metadata": {
    "collapsed": false,
    "deletable": true,
    "editable": true
   },
   "outputs": [
    {
     "data": {
      "text/plain": [
       "37"
      ]
     },
     "execution_count": 7,
     "metadata": {},
     "output_type": "execute_result"
    }
   ],
   "source": [
    "len(ws.get_word_list())"
   ]
  },
  {
   "cell_type": "markdown",
   "metadata": {
    "collapsed": true,
    "deletable": true,
    "editable": true
   },
   "source": [
    "## Hebrew Wordsearch"
   ]
  },
  {
   "cell_type": "code",
   "execution_count": 8,
   "metadata": {
    "collapsed": true
   },
   "outputs": [],
   "source": [
    "refs = expand_refs(convert_refs(parse_refs('Genesis 1:1-3', form='ETCBCH'),\n",
    "                   ReferenceFormID.ETCBCH))\n",
    "        \n",
    "# Get the list of words from TF\n",
    "sections = []\n",
    "[sections.append((r.st_book, r.st_ch, r.st_vs)) for r in refs ]\n",
    "word_list = get_words(*sections, work=Corpus.HEBREW)\n",
    "\n",
    "# Note that the rows and columns values (here both 10) are ignored by the current placement algorithm\n",
    "ws = WordSearch(set(word_list), 10, 10, WordSearch.RTL)"
   ]
  },
  {
   "cell_type": "markdown",
   "metadata": {},
   "source": [
    "Dump a few basic statistics to show things are as expected."
   ]
  },
  {
   "cell_type": "code",
   "execution_count": 9,
   "metadata": {
    "collapsed": false
   },
   "outputs": [
    {
     "name": "stdout",
     "output_type": "stream",
     "text": [
      "stats={'placedD': 12, 'placedL': 4, 'placedLD': 16}, number of words=32, extents: right=0, bottom=10\n"
     ]
    }
   ],
   "source": [
    "print(f'stats={ws._stat_map}, number of words={len(ws._words)}, extents: right={ws._right}, bottom={ws._bottom}')"
   ]
  },
  {
   "cell_type": "markdown",
   "metadata": {},
   "source": [
    "Display it"
   ]
  },
  {
   "cell_type": "code",
   "execution_count": 10,
   "metadata": {
    "collapsed": false
   },
   "outputs": [
    {
     "data": {
      "text/html": [
       "\n",
       "<html>\n",
       " <head>\n",
       "  <meta charset=\"UTF-8\">\n",
       "    <style>\n",
       "    div#wordsearch { float: left; width:50%;}\n",
       "    div#wordlist {float: left; margin-left: 20px;}\n",
       "    table { width: 100%; border-collapse: collapse;}\n",
       "    td { font-size: 200%;}\n",
       "    table, th, td { border: 1px solid black; }\n",
       "    ul {list-style-type: none;}\n",
       "  </style>\n",
       "</head>\n",
       "<body>\n",
       "<div id=\"header\">\n",
       "<h3>Wordsearch</h3>\n",
       "<div id=\"main\"><div id=\"wordsearch\"><table border=\"1\"><tr><td align=\"center\">יִ</td><td align=\"center\">ר</td><td align=\"center\">ו</td><td align=\"center\">אֹֽ</td><td align=\"center\">ם</td><td align=\"center\">י</td><td align=\"center\">הִ֔</td><td align=\"center\">לֹ</td><td align=\"center\">אֱ</td><td align=\"center\">רֵ</td></tr><tr><td align=\"center\">עַ</td><td align=\"center\">בְּ</td><td align=\"center\">ה</td><td align=\"center\">תָ֥</td><td align=\"center\">יְ</td><td align=\"center\">הָ</td><td align=\"center\">תְ</td><td align=\"center\">לֹ</td><td align=\"center\">מְ</td><td align=\"center\">א</td></tr><tr><td align=\"center\">פֶ</td><td align=\"center\">וַֽ</td><td align=\"center\">מָּֽ</td><td align=\"center\">אָ֗</td><td align=\"center\">בָּ</td><td align=\"center\">הֹ֑</td><td align=\"center\">הִ֖</td><td align=\"center\">אֱ</td><td align=\"center\">רַ</td><td align=\"center\">שִׁ֖</td></tr><tr><td align=\"center\">שָּׁ</td><td align=\"center\">יִ</td><td align=\"center\">רֶ</td><td align=\"center\">רָ֣</td><td align=\"center\">ו</td><td align=\"center\">י</td><td align=\"center\">לֹ</td><td align=\"center\">הַ</td><td align=\"center\">חֶ֖</td><td align=\"center\">י</td></tr><tr><td align=\"center\">ם</td><td align=\"center\">ץ</td><td align=\"center\">א</td><td align=\"center\">ם</td><td align=\"center\">ם</td><td align=\"center\">הִ֑</td><td align=\"center\">יֹּ֥</td><td align=\"center\">שָּׁ</td><td align=\"center\">פֶ</td><td align=\"center\">ת</td></tr><tr><td align=\"center\">לֹ</td><td align=\"center\">וַ</td><td align=\"center\">תֹ֨</td><td align=\"center\">פְּ</td><td align=\"center\">י</td><td align=\"center\">יְ</td><td align=\"center\">א</td><td align=\"center\">מַ֖</td><td align=\"center\">ת</td><td align=\"center\">פְּ</td></tr><tr><td align=\"center\">ם</td><td align=\"center\">ה</td><td align=\"center\">נֵ֣</td><td align=\"center\">ם</td><td align=\"center\">הִ</td><td align=\"center\">אֹ֑</td><td align=\"center\">מֶ</td><td align=\"center\">יִ</td><td align=\"center\">אָֽ</td><td align=\"center\">נֵ֥</td></tr><tr><td align=\"center\">וּ֙</td><td align=\"center\">י</td><td align=\"center\">יְ</td><td align=\"center\">י</td><td align=\"center\">חֹ֖</td><td align=\"center\">ו</td><td align=\"center\">ר</td><td align=\"center\">ם</td><td align=\"center\">רֶ</td><td align=\"center\">י</td></tr><tr><td align=\"center\">תְ</td><td align=\"center\">הִ֣</td><td align=\"center\">וְ</td><td align=\"center\">עַ</td><td align=\"center\">שֶׁ</td><td align=\"center\">ר</td><td align=\"center\">אֵ֥</td><td align=\"center\">בֹ֔</td><td align=\"center\">ץ</td><td align=\"center\">ר֣</td></tr><tr><td align=\"center\">י</td><td align=\"center\">וּ֙</td><td align=\"center\">ךְ</td><td align=\"center\">ל</td><td align=\"center\">ךְ</td><td align=\"center\">ת</td><td align=\"center\">ה</td><td align=\"center\">אָֽ</td><td align=\"center\">וָ</td><td align=\"center\">וּ</td></tr><tr><td align=\"center\">הֹ֑</td><td align=\"center\">עַ</td><td align=\"center\">שָּׁ</td><td align=\"center\">ם</td><td align=\"center\">אָ֗</td><td align=\"center\">וּ</td><td align=\"center\">הָ</td><td align=\"center\">הָ</td><td align=\"center\">ם</td><td align=\"center\">חַ</td></tr></table></div>\n",
       "<div id=\"wordlist\">\n",
       "<h3>Words to find</h3>\n",
       "<ul><li>אֱלֹהִ֑ים</li><li>אֱלֹהִ֔ים</li><li>אֱלֹהִ֖ים</li><li>אֵ֥ת</li><li>אָ֗רֶץ</li><li>אָֽרֶץ</li><li>אֹ֑ור</li><li>אֹֽור</li><li>בֹ֔הוּ</li><li>בְּ</li><li>בָּרָ֣א</li><li>הַ</li><li>הָ</li><li>הָיְתָ֥ה</li><li>וְ</li><li>וַ</li><li>וַֽ</li><li>וָ</li><li>חֹ֖שֶׁךְ</li><li>יְהִ֣י</li><li>יְהִי</li><li>יֹּ֥אמֶר</li><li>מְרַחֶ֖פֶת</li><li>מָּֽיִם</li><li>עַל</li><li>פְּנֵ֣י</li><li>פְּנֵ֥י</li><li>ר֣וּחַ</li><li>רֵאשִׁ֖ית</li><li>שָּׁמַ֖יִם</li><li>תְהֹ֑ום</li><li>תֹ֨הוּ֙</li></ul></div>\n",
       "</div>\n",
       "</div>\n",
       "</body>\n",
       "</html>\n",
       "        "
      ],
      "text/plain": [
       "<IPython.core.display.HTML object>"
      ]
     },
     "metadata": {},
     "output_type": "display_data"
    }
   ],
   "source": [
    "display(HTML(ws.get_grid('html')))"
   ]
  },
  {
   "cell_type": "markdown",
   "metadata": {},
   "source": [
    "You will notice that in the Hebrew case every difference in pointing is treated as a different word. Obviously that is not desirable and I will fix it. \n",
    "\n",
    "But that's it for now !"
   ]
  }
 ],
 "metadata": {
  "kernelspec": {
   "display_name": "Python 3",
   "language": "python",
   "name": "python3"
  },
  "language_info": {
   "codemirror_mode": {
    "name": "ipython",
    "version": 3
   },
   "file_extension": ".py",
   "mimetype": "text/x-python",
   "name": "python",
   "nbconvert_exporter": "python",
   "pygments_lexer": "ipython3",
   "version": "3.6.0"
  }
 },
 "nbformat": 4,
 "nbformat_minor": 2
}
