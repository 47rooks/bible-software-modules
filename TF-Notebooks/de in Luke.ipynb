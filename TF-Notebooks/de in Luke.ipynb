{
 "cells": [
  {
   "cell_type": "markdown",
   "metadata": {},
   "source": [
    "# Demo of Pandas to plot Text-Fabric Data"
   ]
  },
  {
   "cell_type": "markdown",
   "metadata": {},
   "source": [
    "15 March 2017\n",
    "\n",
    "This notebook demonstrates a way to use Pandas to plot statistics for text data from Text-Fabric to produce a plot such as one might find in many bible study programs."
   ]
  },
  {
   "cell_type": "code",
   "execution_count": 112,
   "metadata": {
    "collapsed": true
   },
   "outputs": [],
   "source": [
    "%matplotlib inline\n",
    "\n",
    "import pandas as pd\n",
    "import matplotlib as plt\n",
    "from tf.fabric import Fabric"
   ]
  },
  {
   "cell_type": "markdown",
   "metadata": {},
   "source": [
    "Get the Greek data I want. \n",
    "\n",
    "In the end this is a vector of occurrences of δε per 1000 words in the SBL GNT in Luke."
   ]
  },
  {
   "cell_type": "code",
   "execution_count": 113,
   "metadata": {
    "collapsed": false
   },
   "outputs": [
    {
     "name": "stdout",
     "output_type": "stream",
     "text": [
      "This is Text-Fabric 2.3.4\n",
      "Api reference : https://github.com/ETCBC/text-fabric/wiki/Api\n",
      "Tutorial      : https://github.com/ETCBC/text-fabric/blob/master/docs/tutorial.ipynb\n",
      "Data sources  : https://github.com/ETCBC/text-fabric-data\n",
      "Data docs     : https://etcbc.github.io/text-fabric-data\n",
      "Shebanq docs  : https://shebanq.ancient-data.org/text\n",
      "Slack team    : https://shebanq.slack.com/signup\n",
      "Questions? Ask shebanq@ancient-data.org for an invite to Slack\n",
      "61 features found and 0 ignored\n",
      "  0.00s loading features ...\n",
      "   |     0.19s B oslots               from C:/Users/Daniel/github/text-fabric-data/greek/sblgnt\n",
      "   |     0.00s B book                 from C:/Users/Daniel/github/text-fabric-data/greek/sblgnt\n",
      "   |     0.00s B chapter              from C:/Users/Daniel/github/text-fabric-data/greek/sblgnt\n",
      "   |     0.00s B verse                from C:/Users/Daniel/github/text-fabric-data/greek/sblgnt\n",
      "   |     0.07s B UnicodeLemma         from C:/Users/Daniel/github/text-fabric-data/greek/sblgnt\n",
      "   |     0.00s Feature overview: 58 nodes; 2 edges; 1 configs; 7 computeds\n",
      "  1.21s All features loaded/computed - for details use loadLog()\n"
     ]
    }
   ],
   "source": [
    "TF = Fabric( modules='greek/sblgnt' )\n",
    "api = TF.load('''book chapter verse oslots UnicodeLemma''')\n",
    "api.makeAvailableIn(globals())"
   ]
  },
  {
   "cell_type": "code",
   "execution_count": 114,
   "metadata": {
    "collapsed": false
   },
   "outputs": [
    {
     "name": "stdout",
     "output_type": "stream",
     "text": [
      "  0.00s Counting nodes ...\n",
      "starting verse node number of Luke 421354\n",
      "Book node for Luke 137797\n",
      "number of chapters in Luke 24\n",
      "number of verses in Luke 1149\n",
      "number of words in Luke 19446\n",
      "number of words in Luke directly 19446\n",
      "First word slot number in Luke is 29616\n",
      "Number of δε in Luke by group of 1000 words = [15, 11, 16, 24, 22, 26, 41, 44, 38, 25, 29, 18, 27, 28, 34, 28, 25, 44, 38, 9]\n",
      "length of stats = 20\n"
     ]
    }
   ],
   "source": [
    "indent(reset=True)\n",
    "info('Counting nodes ...')\n",
    "i, num_de = 0, 0\n",
    "stats = []\n",
    "n = T.nodeFromSection(('Luke', 1 ,1), lang='en')\n",
    "print(f'starting verse node number of Luke {n}')\n",
    "luke_bn = T.bookNode(\"Luke\", lang=\"en\")\n",
    "luke_cns = L.d(luke_bn, otype='chapter')\n",
    "luke_vns=[]\n",
    "[luke_vns.extend(L.d(x, otype='verse')) for x in luke_cns]\n",
    "luke_wds=[]\n",
    "[luke_wds.extend(L.d(x, otype='word')) for x in luke_vns]\n",
    "print(f'Book node for Luke {luke_bn}')\n",
    "print(f'number of chapters in Luke {len(luke_cns)}')\n",
    "print(f'number of verses in Luke {len(luke_vns)}')\n",
    "print(f'number of words in Luke {len(luke_wds)}')\n",
    "\n",
    "luke_word_nodes = L.d(luke_bn, otype='word')\n",
    "print(f'number of words in Luke directly {len(luke_word_nodes)}')\n",
    "print(f'First word slot number in Luke is {luke_word_nodes[0]}')\n",
    "for n in luke_word_nodes:\n",
    "    w = F.UnicodeLemma.v(n)\n",
    "    i += 1\n",
    "    if w in ('δέ'):\n",
    "        num_de += 1\n",
    "    if i % 1000 == 0 or i >= len(luke_word_nodes):\n",
    "        stats.append(num_de)\n",
    "        num_de = 0\n",
    "print(f'Number of δε in Luke by group of 1000 words = {stats}')\n",
    "print(f'length of stats = {len(stats)}')"
   ]
  },
  {
   "cell_type": "markdown",
   "metadata": {},
   "source": [
    "Now create a Pandas Series from this data"
   ]
  },
  {
   "cell_type": "code",
   "execution_count": 115,
   "metadata": {
    "collapsed": false
   },
   "outputs": [
    {
     "data": {
      "text/plain": [
       "count    20.000000\n",
       "mean     27.100000\n",
       "std      10.361365\n",
       "min       9.000000\n",
       "25%      21.000000\n",
       "50%      26.500000\n",
       "75%      35.000000\n",
       "max      44.000000\n",
       "dtype: float64"
      ]
     },
     "execution_count": 115,
     "metadata": {},
     "output_type": "execute_result"
    }
   ],
   "source": [
    "ds = pd.Series(stats, index=range(1,len(stats)+1))\n",
    "ds.describe()"
   ]
  },
  {
   "cell_type": "code",
   "execution_count": 116,
   "metadata": {
    "collapsed": false
   },
   "outputs": [
    {
     "data": {
      "text/plain": [
       "<matplotlib.text.Text at 0x29864170>"
      ]
     },
     "execution_count": 116,
     "metadata": {},
     "output_type": "execute_result"
    },
    {
     "data": {
      "image/png": "[encoded data removed]",
      "text/plain": [
       "<matplotlib.figure.Figure at 0x29824f10>"
      ]
     },
     "metadata": {},
     "output_type": "display_data"
    }
   ],
   "source": [
    "plt.pyplot.style.use('ggplot')\n",
    "plt.pyplot.figure(figsize=(20,10))\n",
    "gr = ds.plot(kind='bar', color='g')\n",
    "gr.set_title('Occurrences of δε by 1000 words in Luke')\n",
    "gr.set_xlabel('Group of 1000 of words')\n",
    "gr.set_ylabel('Occurrences')\n"
   ]
  }
 ],
 "metadata": {
  "kernelspec": {
   "display_name": "Python 3",
   "language": "python",
   "name": "python3"
  },
  "language_info": {
   "codemirror_mode": {
    "name": "ipython",
    "version": 3
   },
   "file_extension": ".py",
   "mimetype": "text/x-python",
   "name": "python",
   "nbconvert_exporter": "python",
   "pygments_lexer": "ipython3",
   "version": "3.6.0"
  }
 },
 "nbformat": 4,
 "nbformat_minor": 2
}
