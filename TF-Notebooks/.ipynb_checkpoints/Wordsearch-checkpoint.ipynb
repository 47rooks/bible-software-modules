{
 "cells": [
  {
   "cell_type": "markdown",
   "metadata": {
    "deletable": true,
    "editable": true
   },
   "source": [
    "# Greek and Hebrew Wordsearch in Jupyter"
   ]
  },
  {
   "cell_type": "markdown",
   "metadata": {
    "deletable": true,
    "editable": true
   },
   "source": [
    "19th March 2017\n",
    "\n",
    "This is a test to see if we can use the wordsearch generator and render the result inline in a notebook.\n",
    "\n",
    "Please follow this yellow-brick road carefully. The error handling is not up to snuff yet. Mismatching things like Greek verse references with Hebrew corpora designations might be interesting. Do not expect repeated generations of the wordsearches for the same verse to yield identical grids. There are random selections in the layout algorithm, and apparently the word list sorts are unstable. You are possibly going to need to reset the notebook server on occasion to get it to reload state. Not sure what is going on there yet."
   ]
  },
  {
   "cell_type": "code",
   "execution_count": 1,
   "metadata": {
    "collapsed": false,
    "deletable": true,
    "editable": true
   },
   "outputs": [],
   "source": [
    "%load_ext autoreload\n",
    "%autoreload 2"
   ]
  },
  {
   "cell_type": "markdown",
   "metadata": {
    "deletable": true,
    "editable": true
   },
   "source": [
    "Import the necessary modules. In this case I have set PYTHONPATH to include the directories where these packages are located."
   ]
  },
  {
   "cell_type": "code",
   "execution_count": 2,
   "metadata": {
    "collapsed": false,
    "deletable": true,
    "editable": true
   },
   "outputs": [],
   "source": [
    "from bibleutils.versification import convert_refs, expand_refs, parse_refs, \\\n",
    "                                     ReferenceFormID\n",
    "from puzzles.core.etcbc import Corpus, get_words\n",
    "from puzzles.wordsearch.wordsearch import WordSearch\n",
    "\n",
    "from IPython.display import HTML, display"
   ]
  },
  {
   "cell_type": "markdown",
   "metadata": {
    "deletable": true,
    "editable": true
   },
   "source": [
    "## Greek Wordsearch"
   ]
  },
  {
   "cell_type": "markdown",
   "metadata": {
    "deletable": true,
    "editable": true
   },
   "source": [
    "Now generate a wordsearch grid with words drawn from a couple of verses of Luke."
   ]
  },
  {
   "cell_type": "code",
   "execution_count": 3,
   "metadata": {
    "collapsed": false,
    "deletable": true,
    "editable": true
   },
   "outputs": [],
   "source": [
    "refs = expand_refs(convert_refs(parse_refs('Luke 1:3,4', form='ETCBCG'),\n",
    "                   ReferenceFormID.ETCBCG))\n",
    "        \n",
    "# Get the list of words from TF\n",
    "sections = []\n",
    "[sections.append((r.st_book, r.st_ch, r.st_vs)) for r in refs ]\n",
    "word_list = get_words(*sections, work=Corpus.GREEK)\n",
    "\n",
    "# Note that the rows and columns values (here both 10) are ignored by the current placement algorithm\n",
    "ws = WordSearch(set(word_list), 10, 10, WordSearch.LTR)"
   ]
  },
  {
   "cell_type": "markdown",
   "metadata": {
    "deletable": true,
    "editable": true
   },
   "source": [
    "Dump a few basic statistics to show things are as expected."
   ]
  },
  {
   "cell_type": "code",
   "execution_count": 4,
   "metadata": {
    "collapsed": false,
    "deletable": true,
    "editable": true
   },
   "outputs": [
    {
     "name": "stdout",
     "output_type": "stream",
     "text": [
      "stats={'placedD': 5, 'placedRD': 10, 'placedR': 4}, number of words=19, extents: right=10, bottom=14\n"
     ]
    }
   ],
   "source": [
    "print(f'stats={ws._stat_map}, number of words={len(ws._words)}, extents: right={ws._right}, bottom={ws._bottom}')"
   ]
  },
  {
   "cell_type": "markdown",
   "metadata": {
    "deletable": true,
    "editable": true
   },
   "source": [
    "Now display the grid."
   ]
  },
  {
   "cell_type": "code",
   "execution_count": 5,
   "metadata": {
    "collapsed": false,
    "deletable": true,
    "editable": true
   },
   "outputs": [
    {
     "data": {
      "text/html": [
       "\n",
       "<html>\n",
       " <head>\n",
       "  <meta charset=\"UTF-8\">\n",
       "    <style>\n",
       "    div#wordsearch { float: left; width:50%;}\n",
       "    div#wordlist {float: left; margin-left: 20px;}\n",
       "    table { width: 100%; border-collapse: collapse;}\n",
       "    td { font-size: 200%;}\n",
       "    table, th, td { border: 1px solid black; }\n",
       "    ul {list-style-type: none;}\n",
       "  </style>\n",
       "</head>\n",
       "<body>\n",
       "<div id=\"header\">\n",
       "<h3>Wordsearch</h3>\n",
       "<div id=\"main\"><div id=\"wordsearch\"><table border=\"1\"><tr><td align=\"center\">π</td><td align=\"center\">κ</td><td align=\"center\">ρ</td><td align=\"center\">ά</td><td align=\"center\">τ</td><td align=\"center\">ι</td><td align=\"center\">σ</td><td align=\"center\">τ</td><td align=\"center\">ε</td><td align=\"center\">ὧ</td><td align=\"center\">ᾶ</td></tr><tr><td align=\"center\">α</td><td align=\"center\">ἀ</td><td align=\"center\">κ</td><td align=\"center\">α</td><td align=\"center\">θ</td><td align=\"center\">ε</td><td align=\"center\">ξ</td><td align=\"center\">ῆ</td><td align=\"center\">ς</td><td align=\"center\">ν</td><td align=\"center\">π</td></tr><tr><td align=\"center\">ρ</td><td align=\"center\">κ</td><td align=\"center\">σ</td><td align=\"center\">ἐ</td><td align=\"center\">γ</td><td align=\"center\">ἔ</td><td align=\"center\">δ</td><td align=\"center\">ο</td><td align=\"center\">ξ</td><td align=\"center\">ε</td><td align=\"center\">ἄ</td></tr><tr><td align=\"center\">η</td><td align=\"center\">Θ</td><td align=\"center\">α</td><td align=\"center\">φ</td><td align=\"center\">π</td><td align=\"center\">ρ</td><td align=\"center\">λ</td><td align=\"center\">π</td><td align=\"center\">ε</td><td align=\"center\">ρ</td><td align=\"center\">ὶ</td></tr><tr><td align=\"center\">κ</td><td align=\"center\">ε</td><td align=\"center\">ἀ</td><td align=\"center\">τ</td><td align=\"center\">ά</td><td align=\"center\">ι</td><td align=\"center\">ά</td><td align=\"center\">ό</td><td align=\"center\">σ</td><td align=\"center\">υ</td><td align=\"center\">υ</td></tr><tr><td align=\"center\">ο</td><td align=\"center\">ό</td><td align=\"center\">ἄ</td><td align=\"center\">κ</td><td align=\"center\">η</td><td align=\"center\">λ</td><td align=\"center\">γ</td><td align=\"center\">ψ</td><td align=\"center\">γ</td><td align=\"center\">ο</td><td align=\"center\">ῶ</td></tr><tr><td align=\"center\">λ</td><td align=\"center\">φ</td><td align=\"center\">π</td><td align=\"center\">ν</td><td align=\"center\">ρ</td><td align=\"center\">χ</td><td align=\"center\">ε</td><td align=\"center\">ν</td><td align=\"center\">α</td><td align=\"center\">ω</td><td align=\"center\">ι</td></tr><tr><td align=\"center\">ο</td><td align=\"center\">ι</td><td align=\"center\">ᾶ</td><td align=\"center\">κ</td><td align=\"center\">ω</td><td align=\"center\">ι</td><td align=\"center\">ή</td><td align=\"center\">ι</td><td align=\"center\">ῷ</td><td align=\"center\">ι</td><td align=\"center\">ν</td></tr><tr><td align=\"center\">υ</td><td align=\"center\">λ</td><td align=\"center\">σ</td><td align=\"center\">ἀ</td><td align=\"center\">τ</td><td align=\"center\">θ</td><td align=\"center\">β</td><td align=\"center\">θ</td><td align=\"center\">α</td><td align=\"center\">ς</td><td align=\"center\">ε</td></tr><tr><td align=\"center\">θ</td><td align=\"center\">ε</td><td align=\"center\">ι</td><td align=\"center\">μ</td><td align=\"center\">ἵ</td><td align=\"center\">ὴ</td><td align=\"center\">ε</td><td align=\"center\">ῶ</td><td align=\"center\">η</td><td align=\"center\">ν</td><td align=\"center\">ῶ</td></tr><tr><td align=\"center\">η</td><td align=\"center\">ο</td><td align=\"center\">ν</td><td align=\"center\">ο</td><td align=\"center\">ῶ</td><td align=\"center\">ν</td><td align=\"center\">ν</td><td align=\"center\">ν</td><td align=\"center\">ς</td><td align=\"center\">ς</td><td align=\"center\">ἀ</td></tr><tr><td align=\"center\">κ</td><td align=\"center\">ω</td><td align=\"center\">ι</td><td align=\"center\">ὶ</td><td align=\"center\">υ</td><td align=\"center\">λ</td><td align=\"center\">α</td><td align=\"center\">ἀ</td><td align=\"center\">δ</td><td align=\"center\">ά</td><td align=\"center\">δ</td></tr><tr><td align=\"center\">ό</td><td align=\"center\">φ</td><td align=\"center\">θ</td><td align=\"center\">ἵ</td><td align=\"center\">δ</td><td align=\"center\">ἀ</td><td align=\"center\">ς</td><td align=\"center\">ῶ</td><td align=\"center\">ά</td><td align=\"center\">α</td><td align=\"center\">ἔ</td></tr><tr><td align=\"center\">τ</td><td align=\"center\">ψ</td><td align=\"center\">ῶ</td><td align=\"center\">ψ</td><td align=\"center\">ά</td><td align=\"center\">ά</td><td align=\"center\">ι</td><td align=\"center\">ὴ</td><td align=\"center\">η</td><td align=\"center\">ὶ</td><td align=\"center\">ς</td></tr><tr><td align=\"center\">ι</td><td align=\"center\">ε</td><td align=\"center\">η</td><td align=\"center\">ἄ</td><td align=\"center\">η</td><td align=\"center\">ἔ</td><td align=\"center\">ε</td><td align=\"center\">κ</td><td align=\"center\">ἐ</td><td align=\"center\">α</td><td align=\"center\">β</td></tr></table></div>\n",
       "<div id=\"wordlist\">\n",
       "<h3>Words to find</h3>\n",
       "<ul><li>Θεόφιλε</li><li>γράψαι</li><li>καθεξῆς</li><li>κατηχήθης</li><li>κράτιστε</li><li>κἀμοὶ</li><li>λόγων</li><li>παρηκολουθηκότι</li><li>περὶ</li><li>πᾶσιν</li><li>σοι</li><li>τὴν</li><li>ἀκριβῶς</li><li>ἀσφάλειαν</li><li>ἄνωθεν</li><li>ἐπιγνῷς</li><li>ἔδοξε</li><li>ἵνα</li><li>ὧν</li></ul></div>\n",
       "</div>\n",
       "</div>\n",
       "</body>\n",
       "</html>\n",
       "        "
      ],
      "text/plain": [
       "<IPython.core.display.HTML object>"
      ]
     },
     "metadata": {},
     "output_type": "display_data"
    }
   ],
   "source": [
    "display(HTML(ws.get_grid('html')))"
   ]
  },
  {
   "cell_type": "markdown",
   "metadata": {
    "deletable": true,
    "editable": true
   },
   "source": [
    "Now display the list of words in the grid"
   ]
  },
  {
   "cell_type": "code",
   "execution_count": 6,
   "metadata": {
    "collapsed": false,
    "deletable": true,
    "editable": true
   },
   "outputs": [
    {
     "data": {
      "text/plain": [
       "['παρηκολουθηκότι',\n",
       " 'ἀσφάλειαν',\n",
       " 'κατηχήθης',\n",
       " 'κράτιστε',\n",
       " 'καθεξῆς',\n",
       " 'Θεόφιλε',\n",
       " 'ἐπιγνῷς',\n",
       " 'ἀκριβῶς',\n",
       " 'γράψαι',\n",
       " 'ἄνωθεν',\n",
       " 'ἔδοξε',\n",
       " 'λόγων',\n",
       " 'πᾶσιν',\n",
       " 'κἀμοὶ',\n",
       " 'περὶ',\n",
       " 'τὴν',\n",
       " 'σοι',\n",
       " 'ἵνα',\n",
       " 'ὧν']"
      ]
     },
     "execution_count": 6,
     "metadata": {},
     "output_type": "execute_result"
    }
   ],
   "source": [
    "ws.get_word_list()"
   ]
  },
  {
   "cell_type": "code",
   "execution_count": 7,
   "metadata": {
    "collapsed": false,
    "deletable": true,
    "editable": true
   },
   "outputs": [
    {
     "data": {
      "text/plain": [
       "19"
      ]
     },
     "execution_count": 7,
     "metadata": {},
     "output_type": "execute_result"
    }
   ],
   "source": [
    "len(ws.get_word_list())"
   ]
  },
  {
   "cell_type": "markdown",
   "metadata": {
    "collapsed": true,
    "deletable": true,
    "editable": true
   },
   "source": [
    "## Hebrew Wordsearch"
   ]
  },
  {
   "cell_type": "code",
   "execution_count": 8,
   "metadata": {
    "collapsed": false,
    "deletable": true,
    "editable": true
   },
   "outputs": [],
   "source": [
    "refs = expand_refs(convert_refs(parse_refs('Genesis 1:1-3', form='ETCBCH'),\n",
    "                   ReferenceFormID.ETCBCH))\n",
    "        \n",
    "# Get the list of words from TF\n",
    "sections = []\n",
    "[sections.append((r.st_book, r.st_ch, r.st_vs)) for r in refs ]\n",
    "word_list = get_words(*sections, work=Corpus.HEBREW)\n",
    "\n",
    "# Note that the rows and columns values (here both 10) are ignored by the current placement algorithm\n",
    "ws = WordSearch(set(word_list), 10, 10, WordSearch.RTL)"
   ]
  },
  {
   "cell_type": "markdown",
   "metadata": {
    "deletable": true,
    "editable": true
   },
   "source": [
    "Dump a few basic statistics to show things are as expected."
   ]
  },
  {
   "cell_type": "code",
   "execution_count": 9,
   "metadata": {
    "collapsed": false,
    "deletable": true,
    "editable": true
   },
   "outputs": [
    {
     "name": "stdout",
     "output_type": "stream",
     "text": [
      "stats={'placedD': 10, 'placedLD': 16, 'placedL': 6}, number of words=32, extents: right=0, bottom=10\n"
     ]
    }
   ],
   "source": [
    "print(f'stats={ws._stat_map}, number of words={len(ws._words)}, extents: right={ws._right}, bottom={ws._bottom}')"
   ]
  },
  {
   "cell_type": "markdown",
   "metadata": {
    "deletable": true,
    "editable": true
   },
   "source": [
    "Display it"
   ]
  },
  {
   "cell_type": "code",
   "execution_count": 10,
   "metadata": {
    "collapsed": false,
    "deletable": true,
    "editable": true
   },
   "outputs": [
    {
     "data": {
      "text/html": [
       "\n",
       "<html>\n",
       " <head>\n",
       "  <meta charset=\"UTF-8\">\n",
       "    <style>\n",
       "    div#wordsearch { float: left; width:50%;}\n",
       "    div#wordlist {float: left; margin-left: 20px;}\n",
       "    table { width: 100%; border-collapse: collapse;}\n",
       "    td { font-size: 200%;}\n",
       "    table, th, td { border: 1px solid black; }\n",
       "    ul {list-style-type: none;}\n",
       "  </style>\n",
       "</head>\n",
       "<body>\n",
       "<div id=\"header\">\n",
       "<h3>Wordsearch</h3>\n",
       "<div id=\"main\"><div id=\"wordsearch\"><table border=\"1\"><tr><td align=\"center\">י</td><td align=\"center\">נֵ֣</td><td align=\"center\">פְּ</td><td align=\"center\">חֹ֖</td><td align=\"center\">וַֽ</td><td align=\"center\">ם</td><td align=\"center\">י</td><td align=\"center\">הִ֑</td><td align=\"center\">לֹ</td><td align=\"center\">אֱ</td></tr><tr><td align=\"center\">בָּ</td><td align=\"center\">ר</td><td align=\"center\">שֶׁ</td><td align=\"center\">ר</td><td align=\"center\">מֶ</td><td align=\"center\">א</td><td align=\"center\">יֹּ֥</td><td align=\"center\">רֵ</td><td align=\"center\">מְ</td><td align=\"center\">לֹ</td></tr><tr><td align=\"center\">רֵ</td><td align=\"center\">ךְ</td><td align=\"center\">ם</td><td align=\"center\">ו</td><td align=\"center\">הֹ֑</td><td align=\"center\">תְ</td><td align=\"center\">א</td><td align=\"center\">אֱ</td><td align=\"center\">רַ</td><td align=\"center\">הִ֖</td></tr><tr><td align=\"center\">הִ</td><td align=\"center\">שִׁ֖</td><td align=\"center\">בֹ֔</td><td align=\"center\">אָֽ</td><td align=\"center\">אֹֽ</td><td align=\"center\">שִׁ֖</td><td align=\"center\">לֹ</td><td align=\"center\">שָּׁ</td><td align=\"center\">חֶ֖</td><td align=\"center\">י</td></tr><tr><td align=\"center\">ץ</td><td align=\"center\">ה</td><td align=\"center\">רֶ</td><td align=\"center\">ו</td><td align=\"center\">י</td><td align=\"center\">הִ֔</td><td align=\"center\">מַ֖</td><td align=\"center\">הָ</td><td align=\"center\">פֶ</td><td align=\"center\">ם</td></tr><tr><td align=\"center\">וּ</td><td align=\"center\">ץ</td><td align=\"center\">ר</td><td align=\"center\">ת</td><td align=\"center\">י</td><td align=\"center\">יִ</td><td align=\"center\">יְ</td><td align=\"center\">פְּ</td><td align=\"center\">ת</td><td align=\"center\">תֹ֨</td></tr><tr><td align=\"center\">ר</td><td align=\"center\">ו</td><td align=\"center\">אֹ֑</td><td align=\"center\">ם</td><td align=\"center\">ם</td><td align=\"center\">תָ֥</td><td align=\"center\">הִ</td><td align=\"center\">נֵ֥</td><td align=\"center\">וָ</td><td align=\"center\">ה</td></tr><tr><td align=\"center\">אָֽ</td><td align=\"center\">בְּ</td><td align=\"center\">יְ</td><td align=\"center\">וְ</td><td align=\"center\">ה</td><td align=\"center\">אָ֗</td><td align=\"center\">י</td><td align=\"center\">י</td><td align=\"center\">בָּ</td><td align=\"center\">וּ֙</td></tr><tr><td align=\"center\">וַ</td><td align=\"center\">ר֣</td><td align=\"center\">הִ֣</td><td align=\"center\">וַ</td><td align=\"center\">רֶ</td><td align=\"center\">אֵ֥</td><td align=\"center\">עַ</td><td align=\"center\">מָּֽ</td><td align=\"center\">רָ֣</td><td align=\"center\">הַ</td></tr><tr><td align=\"center\">עַ</td><td align=\"center\">וּ</td><td align=\"center\">י</td><td align=\"center\">ץ</td><td align=\"center\">ת</td><td align=\"center\">ל</td><td align=\"center\">הָ</td><td align=\"center\">יִ</td><td align=\"center\">א</td><td align=\"center\">הִ</td></tr><tr><td align=\"center\">ל</td><td align=\"center\">חַ</td><td align=\"center\">אֵ֥</td><td align=\"center\">אָֽ</td><td align=\"center\">ה</td><td align=\"center\">חֶ֖</td><td align=\"center\">נֵ֣</td><td align=\"center\">ם</td><td align=\"center\">שִׁ֖</td><td align=\"center\">שֶׁ</td></tr></table></div>\n",
       "<div id=\"wordlist\">\n",
       "<h3>Words to find</h3>\n",
       "<ul><li>אֱלֹהִ֑ים</li><li>אֱלֹהִ֔ים</li><li>אֱלֹהִ֖ים</li><li>אֵ֥ת</li><li>אָ֗רֶץ</li><li>אָֽרֶץ</li><li>אֹ֑ור</li><li>אֹֽור</li><li>בֹ֔הוּ</li><li>בְּ</li><li>בָּרָ֣א</li><li>הַ</li><li>הָ</li><li>הָיְתָ֥ה</li><li>וְ</li><li>וַ</li><li>וַֽ</li><li>וָ</li><li>חֹ֖שֶׁךְ</li><li>יְהִ֣י</li><li>יְהִי</li><li>יֹּ֥אמֶר</li><li>מְרַחֶ֖פֶת</li><li>מָּֽיִם</li><li>עַל</li><li>פְּנֵ֣י</li><li>פְּנֵ֥י</li><li>ר֣וּחַ</li><li>רֵאשִׁ֖ית</li><li>שָּׁמַ֖יִם</li><li>תְהֹ֑ום</li><li>תֹ֨הוּ֙</li></ul></div>\n",
       "</div>\n",
       "</div>\n",
       "</body>\n",
       "</html>\n",
       "        "
      ],
      "text/plain": [
       "<IPython.core.display.HTML object>"
      ]
     },
     "metadata": {},
     "output_type": "display_data"
    }
   ],
   "source": [
    "display(HTML(ws.get_grid('html')))"
   ]
  },
  {
   "cell_type": "markdown",
   "metadata": {
    "deletable": true,
    "editable": true
   },
   "source": [
    "You will notice that in the Hebrew case every difference in pointing is treated as a different word. Obviously that is not desirable and I will fix it. \n",
    "\n",
    "But that's it for now !"
   ]
  }
 ],
 "metadata": {
  "kernelspec": {
   "display_name": "Python 3",
   "language": "python",
   "name": "python3"
  },
  "language_info": {
   "codemirror_mode": {
    "name": "ipython",
    "version": 3
   },
   "file_extension": ".py",
   "mimetype": "text/x-python",
   "name": "python",
   "nbconvert_exporter": "python",
   "pygments_lexer": "ipython3",
   "version": "3.6.0"
  }
 },
 "nbformat": 4,
 "nbformat_minor": 2
}
